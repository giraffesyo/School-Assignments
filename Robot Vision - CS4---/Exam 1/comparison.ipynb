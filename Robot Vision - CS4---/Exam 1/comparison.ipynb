{
 "cells": [
  {
   "cell_type": "code",
   "execution_count": 16,
   "metadata": {
    "collapsed": true
   },
   "outputs": [],
   "source": [
    "import cv2\n",
    "import matplotlib.pyplot as plt\n",
    "import numpy as np\n",
    "%matplotlib inline\n",
    "import glob"
   ]
  },
  {
   "cell_type": "code",
   "execution_count": 17,
   "metadata": {},
   "outputs": [
    {
     "name": "stdout",
     "output_type": "stream",
     "text": [
      "Please enter the path to the image to compare: /Users/michaelmcquade/Desktop/DataBase_1/8D5U5524.tif\n",
      "Please choose a comparison method by typing the corresponding integer\n",
      "1: Correlation\n",
      "2: Chi-Square\n",
      "3: Intersection\n",
      "4: Bhattacharyya\n",
      "Type an integer 1-4: 2\n"
     ]
    }
   ],
   "source": [
    "#Use at the end\n",
    "src_base = cv2.imread(raw_input(\"Please enter the path to the image to compare: \"),0)\n",
    "src_base_hist = cv2.calcHist([src_base], [0] ,None,[256],[0,256])\n",
    "comparisonMethod = 0\n",
    "print \"Please choose a comparison method by typing the corresponding integer\" \n",
    "print \"1: Correlation\"\n",
    "print \"2: Chi-Square\"\n",
    "print \"3: Intersection\"\n",
    "print \"4: Bhattacharyya\"\n",
    "while (True):\n",
    "    try:\n",
    "        comparisonMethod = int(raw_input(\"Type an integer 1-4: \"))\n",
    "        if(comparisonMethod == 1):\n",
    "            Method = cv2.HISTCMP_CORREL\n",
    "            break\n",
    "        elif(comparisonMethod == 2):\n",
    "            Method = cv2.HISTCMP_CHISQR\n",
    "            break\n",
    "        elif(comparisonMethod == 3):\n",
    "            Method = cv2.HISTCMP_INTERSECT\n",
    "            break\n",
    "        elif(comparisonMethod == 4):\n",
    "            Method = cv2.HISTCMP_BHATTACHARYYA\n",
    "            break\n",
    "    except ValueError:\n",
    "        print \"Not valid input, try again.\"\n",
    "        \n",
    "\n",
    "#Load source images\n",
    "#src_base = cv2.imread(ImageToCompare, 0)\n",
    "#src_test1 = cv2.imread(\"/Users/michaelmcquade/Desktop/Mei1.jpg\", 0)\n",
    "#src_test2 = cv2.imread(\"/Users/michaelmcquade/Desktop/Mei2.jpg\", 0)\n",
    "#Convert to RGB\n",
    "#src_base = cv2.cvtColor(src_base, cv2.COLOR_BGR2RGB)\n",
    "\n",
    "#Create HSV Versions (Convert them to HSV format)\n",
    "#hsv_base = cv2.cvtColor(src_base, cv2.COLOR_RGB2HSV)\n",
    "#hsv_test1 = cv2.cvtColor(src_test1, cv2.COLOR_BGR2HSV)\n",
    "#hsv_test2 = cv2.cvtColor(src_test2, cv2.COLOR_BGR2HSV)\n",
    "\n",
    "#Create half down hsv (Also, create an image of half the base image (in HSV format))\n",
    "#(baseH,baseW) = src_base.shape[:2]\n",
    "#src_half_down = src_base[baseH/2:]"
   ]
  },
  {
   "cell_type": "code",
   "execution_count": 18,
   "metadata": {
    "collapsed": true
   },
   "outputs": [],
   "source": [
    "##stack base and hsv \n",
    "#res = np.hstack((src_base,hsv_base))\n",
    "#plt.imshow(res)\n",
    "##Show base with no transformation\n",
    "#plt.imshow(src_base, cmap='gray')\n",
    "##show hsv base\n",
    "#plt.imshow(src_base, cmap='gray')\n",
    "##show half of hsv\n",
    "#plt.imshow(src_half_down, cmap='gray')\n",
    "\n",
    "#Initialize the arguments to calculate the histograms (bins, ranges and channels H and S ).\n",
    "\n",
    "#h_bins, s_bins = 50, 60\n",
    "#hranges, sranges = [0, 160],[0,256]\n",
    "#ranges = [hranges, sranges]\n",
    "\n",
    "#src_base_hist = cv2.calcHist([src_base], [0] ,None,[256],[0,256])\n",
    "#src_base_hist1 = cv2.calcHist([src_base], [1] ,None,[256],sranges)\n",
    "#src_base_hist2 = cv2.calcHist([src_base], [2] ,None,[256],sranges)\n",
    "\n",
    "#src_test1_hist = cv2.calcHist([src_test1], [0] ,None,[256],sranges)\n",
    "#src_test2_hist = cv2.calcHist([src_test2], [0] ,None,[256],sranges)\n",
    "#src_half_down_hist = cv2.calcHist([src_half_down], [0] ,None,[256],sranges)\n",
    "\n",
    "#plt.plot(src_base_hist)\n",
    "#plt.plot(src_half_down_hist)\n",
    "#cv2.compareHist(src_base_hist, src_half_down_hist, cv2.HISTCMP_CORREL)\n",
    "\n",
    "#plt.imshow(src_base,cmap='gray')"
   ]
  },
  {
   "cell_type": "code",
   "execution_count": 19,
   "metadata": {
    "collapsed": true
   },
   "outputs": [],
   "source": [
    "imagesDB = glob.glob(\"/Users/michaelmcquade/Desktop/DataBase_1/*.tif\")"
   ]
  },
  {
   "cell_type": "code",
   "execution_count": 20,
   "metadata": {
    "collapsed": true
   },
   "outputs": [],
   "source": [
    "#imagesDB\n",
    "current = imagesDB[0]\n",
    "tempIMG = cv2.imread(current, 0)\n",
    "tempHIST = cv2.calcHist([tempIMG], [0], None, [256], [0,256])\n",
    "#imagesDB[0] = [current, tempHIST]\n",
    "Value = cv2.compareHist(src_base_hist, tempHIST, Method)\n",
    "#Value\n",
    "#print cv2.normalize(tempHIST, 1)"
   ]
  },
  {
   "cell_type": "code",
   "execution_count": null,
   "metadata": {
    "collapsed": true
   },
   "outputs": [],
   "source": []
  },
  {
   "cell_type": "code",
   "execution_count": 21,
   "metadata": {
    "collapsed": true
   },
   "outputs": [],
   "source": [
    "def generateValues(srcHist, imagesDB):\n",
    "    for x in range(len(imagesDB)):\n",
    "        current = imagesDB[x]\n",
    "        tempIMG = cv2.imread(current, 0)\n",
    "        tempHIST = cv2.calcHist([tempIMG], [0], None, [256], [0,256])\n",
    "        Value = cv2.compareHist(srcHist, tempHIST, Method)\n",
    "        imagesDB[x] = [current, Value]\n",
    "    \n",
    "    if (Method == cv2.HISTCMP_CORREL):\n",
    "        imagesDB = sorted(imagesDB, key=lambda value: value[1], reverse=True)\n",
    "    elif (Method == cv2.HISTCMP_CHISQR):\n",
    "        imagesDB = sorted(imagesDB, key=lambda value: value[1])\n",
    "    elif (Method == cv2.HISTCMP_INTERSECT):\n",
    "        imagesDB = sorted(imagesDB, key=lambda value: value[1], reverse=True)\n",
    "    elif (Method == cv2.HISTCMP_BHATTACHARYYA):\n",
    "        imagesDB = sorted(imagesDB, key=lambda value: value[1])\n",
    "    return imagesDB"
   ]
  },
  {
   "cell_type": "code",
   "execution_count": 22,
   "metadata": {
    "collapsed": true
   },
   "outputs": [],
   "source": [
    "imagesDB = generateValues(src_base_hist, imagesDB)"
   ]
  },
  {
   "cell_type": "code",
   "execution_count": 23,
   "metadata": {},
   "outputs": [
    {
     "data": {
      "text/plain": [
       "[<matplotlib.lines.Line2D at 0x11ab37f90>]"
      ]
     },
     "execution_count": 23,
     "metadata": {},
     "output_type": "execute_result"
    },
    {
     "data": {
      "image/png": "[encoded data removed]",
      "text/plain": [
       "<matplotlib.figure.Figure at 0x117e2a550>"
      ]
     },
     "metadata": {},
     "output_type": "display_data"
    }
   ],
   "source": [
    "plt.plot(src_base_hist)"
   ]
  },
  {
   "cell_type": "code",
   "execution_count": 24,
   "metadata": {},
   "outputs": [
    {
     "data": {
      "text/plain": [
       "[<matplotlib.lines.Line2D at 0x11a93ec50>]"
      ]
     },
     "execution_count": 24,
     "metadata": {},
     "output_type": "execute_result"
    },
    {
     "data": {
      "image/png": "[encoded data removed]",
      "text/plain": [
       "<matplotlib.figure.Figure at 0x117e4a450>"
      ]
     },
     "metadata": {},
     "output_type": "display_data"
    }
   ],
   "source": [
    "tempIMG = cv2.imread(\"/Users/michaelmcquade/Desktop/DataBase_1/8D5U5533.tif\",0)\n",
    "tempHIST = cv2.calcHist([tempIMG], [0], None, [256], [0,256])\n",
    "plt.plot(tempHIST)\n"
   ]
  },
  {
   "cell_type": "code",
   "execution_count": 25,
   "metadata": {
    "collapsed": true
   },
   "outputs": [],
   "source": [
    "file = open(\"/Users/michaelmcquade/Desktop/Exam1Output.txt\", \"w\")\n",
    "for x in range(len(imagesDB)):\n",
    "    tempValue = str(imagesDB[x][1])\n",
    "    tempPath = str(imagesDB[x][0])\n",
    "    print >>file, str(\"Value: \" + tempValue + \" \" + \"File: \" + tempPath)\n",
    "    "
   ]
  },
  {
   "cell_type": "code",
   "execution_count": 11,
   "metadata": {
    "collapsed": true
   },
   "outputs": [],
   "source": [
    "#def comparer(source, comparisonMethod):\n",
    "#    Value = compareHist(source, DATABASEIMG, comparisonMethod)\n",
    "#    if (comparisonMethod == cv2.HISTCMP_CORREL):\n",
    "#        \n",
    "#    elif (comparisonMethod == cv2.HISTCMP_CHISQR):\n",
    "#        \n",
    "#    elif (comparisonMethod == cv2.HISTCMP_INTERSECT):\n",
    "#        \n",
    "#    elif (comparisonMethod == cv2.HISTCMP_BHATTACHARYYA):\n",
    "        \n"
   ]
  },
  {
   "cell_type": "code",
   "execution_count": null,
   "metadata": {
    "collapsed": true
   },
   "outputs": [],
   "source": []
  },
  {
   "cell_type": "code",
   "execution_count": null,
   "metadata": {
    "collapsed": true
   },
   "outputs": [],
   "source": []
  }
 ],
 "metadata": {
  "kernelspec": {
   "display_name": "Python 2",
   "language": "python",
   "name": "python2"
  },
  "language_info": {
   "codemirror_mode": {
    "name": "ipython",
    "version": 2
   },
   "file_extension": ".py",
   "mimetype": "text/x-python",
   "name": "python",
   "nbconvert_exporter": "python",
   "pygments_lexer": "ipython2",
   "version": "2.7.13"
  }
 },
 "nbformat": 4,
 "nbformat_minor": 2
}
