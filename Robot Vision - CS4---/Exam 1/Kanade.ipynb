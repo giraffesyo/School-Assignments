{
 "cells": [
  {
   "cell_type": "code",
   "execution_count": 20,
   "metadata": {},
   "outputs": [
    {
     "data": {
      "text/plain": [
       "<function destroyAllWindows>"
      ]
     },
     "execution_count": 20,
     "metadata": {},
     "output_type": "execute_result"
    }
   ],
   "source": [
    "import cv2\n",
    "import numpy as np\n",
    "import glob\n",
    "import matplotlib.pyplot as plt\n",
    "%matplotlib inline\n",
    "\n",
    "# Static Frames class in order to get one frame at a time, in order of file name\n",
    "class Frames:\n",
    "    listofFrames = glob.glob(\"/Users/michaelmcquade/Desktop/motionimages/*.png\")\n",
    "    frame = 0 #starting frame\n",
    "    @staticmethod\n",
    "    def getNextFrame():\n",
    "        image = cv2.imread(Frames.listofFrames[Frames.frame])\n",
    "        Frames.frame = Frames.frame + 1\n",
    "        return image\n",
    "\n",
    "base = Frames.getNextFrame()\n",
    "\n",
    "baseGray = cv2.cvtColor(base, cv2.COLOR_BGR2GRAY)\n",
    "#explanation from https://www.learnopencv.com/how-to-select-a-bounding-box-roi-in-opencv-cpp-python/\n",
    "roi = cv2.selectROI(\"Select ROI\", base, False, False)\n",
    "cv2.waitKey(0)\n",
    "cv2.destroyAllWindows\n",
    "#cv2.destroyWindow(\"Select ROI\")"
   ]
  },
  {
   "cell_type": "code",
   "execution_count": 21,
   "metadata": {},
   "outputs": [
    {
     "data": {
      "text/plain": [
       "(463.0, 73.0, 405.0, 187.0)"
      ]
     },
     "execution_count": 21,
     "metadata": {},
     "output_type": "execute_result"
    }
   ],
   "source": [
    "roi"
   ]
  },
  {
   "cell_type": "code",
   "execution_count": 22,
   "metadata": {
    "collapsed": true
   },
   "outputs": [],
   "source": [
    "separation = 3\n",
    "\n",
    "\n",
    "#y,x\n",
    "#y = roi[1]:roi[1]+roi[3]\n",
    "#x = roi[0]:roi[0]+roi[2]\n",
    "yTop = int(roi[1])\n",
    "yBottom = int(roi[1]+roi[3])\n",
    "xLeft = int(roi[0])\n",
    "xRight = int(roi[0]+roi[2])\n",
    "\n",
    "xWidth = int(xRight - xLeft)\n",
    "yHeight = int(yBottom - yTop)\n",
    "\n",
    "#listDims = int((yHeight * xWidth))\n",
    "#roiPoints = np.zeros((2000,1,2))\n",
    "\n",
    "#feature_params = dict( maxCorners = 100,\n",
    "#                      qualityLevel = 0.3,\n",
    "#                      minDistance = 7,\n",
    "#                      blockSize = 7)\n",
    "\n",
    "#p0 = cv2.goodFeaturesToTrack(oldFrame, mask = None, **feature_params)"
   ]
  },
  {
   "cell_type": "code",
   "execution_count": 23,
   "metadata": {
    "collapsed": true
   },
   "outputs": [],
   "source": [
    "\n",
    "#roiPoints.shape"
   ]
  },
  {
   "cell_type": "code",
   "execution_count": 24,
   "metadata": {
    "collapsed": true
   },
   "outputs": [],
   "source": [
    "#p0.shape"
   ]
  },
  {
   "cell_type": "code",
   "execution_count": 25,
   "metadata": {},
   "outputs": [
    {
     "name": "stdout",
     "output_type": "stream",
     "text": [
      "xLeft:  463\n",
      "xRight:  868\n",
      "xWidth:  405\n",
      "yTop:  73\n",
      "yBottom:  260\n",
      "yHeight:  187\n"
     ]
    }
   ],
   "source": [
    "#print roiPoints.shape\n",
    "\n",
    "print \"xLeft: \", xLeft\n",
    "print \"xRight: \", xRight\n",
    "print \"xWidth: \", xWidth\n",
    "print \"yTop: \", yTop\n",
    "print \"yBottom: \", yBottom\n",
    "print \"yHeight: \", yHeight\n",
    "#print \"listDims: \", listDims"
   ]
  },
  {
   "cell_type": "code",
   "execution_count": 26,
   "metadata": {
    "collapsed": true
   },
   "outputs": [],
   "source": [
    "#roiPoints[0,0] = (xLeft,yTop)\n",
    "#print roiPoints"
   ]
  },
  {
   "cell_type": "code",
   "execution_count": 27,
   "metadata": {
    "collapsed": true
   },
   "outputs": [],
   "source": [
    "count = 0\n",
    "for x in range(int(xLeft), int(xRight), separation):\n",
    "    for y in range (int(yTop), int(yBottom), separation):\n",
    "        count = count + 1\n",
    "\n",
    "roiPoints = np.zeros((count,1,2),dtype=np.float32)\n",
    "\n",
    "count = 0\n",
    "for x in range(int(xLeft), int(xRight), separation):\n",
    "    for y in range (int(yTop), int(yBottom), separation):\n",
    "        roiPoints[count] = (x,y)\n",
    "        count = count + 1\n",
    "\n",
    "        \n",
    "        "
   ]
  },
  {
   "cell_type": "code",
   "execution_count": 28,
   "metadata": {},
   "outputs": [
    {
     "data": {
      "text/plain": [
       "array([[[ 463.,   73.]],\n",
       "\n",
       "       [[ 463.,   76.]],\n",
       "\n",
       "       [[ 463.,   79.]],\n",
       "\n",
       "       ..., \n",
       "       [[ 865.,  253.]],\n",
       "\n",
       "       [[ 865.,  256.]],\n",
       "\n",
       "       [[ 865.,  259.]]], dtype=float32)"
      ]
     },
     "execution_count": 28,
     "metadata": {},
     "output_type": "execute_result"
    }
   ],
   "source": [
    "roiPoints"
   ]
  },
  {
   "cell_type": "code",
   "execution_count": 29,
   "metadata": {
    "collapsed": true
   },
   "outputs": [],
   "source": [
    "#croppedROI = oldFrame[int(roi[1]):int(roi[1]+roi[3]), int(roi[0]):int(roi[0]+roi[2])]\n",
    "#plt.imshow(croppedROI, cmap='gray')"
   ]
  },
  {
   "cell_type": "code",
   "execution_count": null,
   "metadata": {
    "collapsed": true
   },
   "outputs": [],
   "source": []
  },
  {
   "cell_type": "code",
   "execution_count": 30,
   "metadata": {},
   "outputs": [
    {
     "data": {
      "text/plain": [
       "\"while(True):\\n    #load next frame\\n    Frame = Frames.getNextFrame()\\n    #calculate optical flow\\n    pl, st, err = cv2.calcOpticalFlowPyrLK(oldFrame, Frame, croppedROI, None, **lk_params)\\n    # Select good points\\n    good_new = p1[st==1]\\n    good_old = p0[st==1]\\n    \\n    # draw the tracks\\n    for i,(new,old) in enumerate(zip(good_new,good_old)):\\n        a,b = new.ravel()\\n        c,d = old.ravel()\\n        mask = cv2.line(mask, (a,b),(c,d), color[i].tolist(), 2)\\n        frame = cv2.circle(frame,(a,b),5,color[i].tolist(),-1)\\n    img = cv2.add(frame,mask)\\n    cv2.imshow('frame',img)\\n    k = cv2.waitKey(30) & 0xff\\n    if k == 27:\\n        break\\n    # Now update the previous frame and previous points\\n    oldFrame = Frame.copy()\\n    p0 = good_new.reshape(-1,1,2)\\n    cv2.destroyAllWindows()\""
      ]
     },
     "execution_count": 30,
     "metadata": {},
     "output_type": "execute_result"
    }
   ],
   "source": [
    "#mask = np.zeros((391,1344,3))\n",
    "#mask = np.zeros_like(oldFrame)\n",
    "\n",
    "\n",
    "'''while(True):\n",
    "    #load next frame\n",
    "    Frame = Frames.getNextFrame()\n",
    "    #calculate optical flow\n",
    "    pl, st, err = cv2.calcOpticalFlowPyrLK(oldFrame, Frame, croppedROI, None, **lk_params)\n",
    "    # Select good points\n",
    "    good_new = p1[st==1]\n",
    "    good_old = p0[st==1]\n",
    "    \n",
    "    # draw the tracks\n",
    "    for i,(new,old) in enumerate(zip(good_new,good_old)):\n",
    "        a,b = new.ravel()\n",
    "        c,d = old.ravel()\n",
    "        mask = cv2.line(mask, (a,b),(c,d), color[i].tolist(), 2)\n",
    "        frame = cv2.circle(frame,(a,b),5,color[i].tolist(),-1)\n",
    "    img = cv2.add(frame,mask)\n",
    "    cv2.imshow('frame',img)\n",
    "    k = cv2.waitKey(30) & 0xff\n",
    "    if k == 27:\n",
    "        break\n",
    "    # Now update the previous frame and previous points\n",
    "    oldFrame = Frame.copy()\n",
    "    p0 = good_new.reshape(-1,1,2)\n",
    "    cv2.destroyAllWindows()'''"
   ]
  },
  {
   "cell_type": "code",
   "execution_count": 31,
   "metadata": {},
   "outputs": [
    {
     "data": {
      "text/plain": [
       "'while(1):\\n    frame = Frames.getNextFrame()\\n    \\n    # calculate optical flow\\n    p1, st, err = cv2.calcOpticalFlowPyrLK(oldFrame, frame, roiPoints, None, **lk_params)\\n    print \"p1: \", p1.shape\\n    print \"st: \", st.shape\\n    \\n    print p1\\n    print st\\n    print err\\n    \\n    # Select good points\\n    #good_new = p1[st==1]\\n    #good_old = p0[st==1]\\n   \\n   # draw the tracks\\n    #for i,(new,old) in enumerate(zip(good_new,good_old)):\\n    #    a,b = new.ravel()\\n    #    c,d = old.ravel()\\n    #    mask = cv2.line(mask, (a,b),(c,d), color[i].tolist(), 2)\\n    #    frame = cv2.circle(frame,(a,b),5,color[i].tolist(),-1)\\n    #img = cv2.add(frame,mask)\\n    #cv2.imshow(\\'frame\\',img)\\n    #k = cv2.waitKey(30) & 0xff\\n    #if k == 27:\\n    #    break\\n    # Now update the previous frame and previous points\\n    oldFrame = frame.copy()\\n    #p0 = good_new.reshape(-1,1,2)\\n    cv2.destroyAllWindows()\\n#\\n#print\\n'"
      ]
     },
     "execution_count": 31,
     "metadata": {},
     "output_type": "execute_result"
    }
   ],
   "source": [
    "# Code from http://docs.opencv.org/3.1.0/d7/d8b/tutorial_py_lucas_kanade.html\n",
    "    \n",
    "# params for ShiTomasi corner detection \n",
    "'''feature_params = dict( maxCorners = 100,\n",
    "                      qualityLevel = 0.3,\n",
    "                      minDistance = 7,\n",
    "                      blockSize = 7)'''\n",
    "# Parameters for lucas kanade optical flow\n",
    "lk_params = dict( winSize  = (15,15),\n",
    "                 maxLevel = 2,\n",
    "                 criteria = (cv2.TERM_CRITERIA_EPS | cv2.TERM_CRITERIA_COUNT, 10, 0.03))\n",
    "\n",
    "# Create some random colors\n",
    "color = np.random.randint(0,255,(100,3))\n",
    "\n",
    "#p0 = cv2.goodFeaturesToTrack(oldFrame, mask = None, **feature_params)\n",
    "#roiPointsNext = np.zeros_like(roiPoints)\n",
    "\n",
    "\n",
    "\n",
    "\n",
    "'''while(1):\n",
    "    frame = Frames.getNextFrame()\n",
    "    \n",
    "    # calculate optical flow\n",
    "    p1, st, err = cv2.calcOpticalFlowPyrLK(oldFrame, frame, roiPoints, None, **lk_params)\n",
    "    print \"p1: \", p1.shape\n",
    "    print \"st: \", st.shape\n",
    "    \n",
    "    print p1\n",
    "    print st\n",
    "    print err\n",
    "    \n",
    "    # Select good points\n",
    "    #good_new = p1[st==1]\n",
    "    #good_old = p0[st==1]\n",
    "   \n",
    "   # draw the tracks\n",
    "    #for i,(new,old) in enumerate(zip(good_new,good_old)):\n",
    "    #    a,b = new.ravel()\n",
    "    #    c,d = old.ravel()\n",
    "    #    mask = cv2.line(mask, (a,b),(c,d), color[i].tolist(), 2)\n",
    "    #    frame = cv2.circle(frame,(a,b),5,color[i].tolist(),-1)\n",
    "    #img = cv2.add(frame,mask)\n",
    "    #cv2.imshow('frame',img)\n",
    "    #k = cv2.waitKey(30) & 0xff\n",
    "    #if k == 27:\n",
    "    #    break\n",
    "    # Now update the previous frame and previous points\n",
    "    oldFrame = frame.copy()\n",
    "    #p0 = good_new.reshape(-1,1,2)\n",
    "    cv2.destroyAllWindows()\n",
    "#\n",
    "#print\n",
    "'''"
   ]
  },
  {
   "cell_type": "code",
   "execution_count": 32,
   "metadata": {
    "collapsed": true
   },
   "outputs": [],
   "source": [
    "frameTM1gray = baseGray #adds another alias to baseGray array\n",
    "frameT = Frames.getNextFrame()\n",
    "frameTgray = cv2.cvtColor(frameT, cv2.COLOR_BGR2GRAY)\n"
   ]
  },
  {
   "cell_type": "code",
   "execution_count": 33,
   "metadata": {},
   "outputs": [
    {
     "data": {
      "text/plain": [
       "(391, 1344)"
      ]
     },
     "execution_count": 33,
     "metadata": {},
     "output_type": "execute_result"
    }
   ],
   "source": [
    "frameTgray.shape"
   ]
  },
  {
   "cell_type": "code",
   "execution_count": 34,
   "metadata": {
    "collapsed": true
   },
   "outputs": [],
   "source": [
    "\n",
    "p1, st, err = cv2.calcOpticalFlowPyrLK(frameTM1gray, frameTgray, roiPoints, None, **lk_params)\n",
    "frameTM1gray = frameTgray\n",
    "frameT = Frames.getNextFrame()\n",
    "frameTgray = cv2.cvtColor(frameT, cv2.COLOR_BGR2GRAY)\n",
    "\n"
   ]
  },
  {
   "cell_type": "code",
   "execution_count": null,
   "metadata": {
    "collapsed": true
   },
   "outputs": [],
   "source": [
    "blue = (255,0,0)\n",
    "Drawing = np.zeros_like(base)\n",
    "Drawing = cv2.line(Drawing,(0,0),(511,511),blue,5)\n",
    "cv2.imshow('Displacement', Drawing)\n",
    "cv2.waitKey(0)"
   ]
  },
  {
   "cell_type": "code",
   "execution_count": null,
   "metadata": {
    "collapsed": true
   },
   "outputs": [],
   "source": [
    "p1"
   ]
  },
  {
   "cell_type": "code",
   "execution_count": 18,
   "metadata": {},
   "outputs": [
    {
     "data": {
      "text/plain": [
       "array([[[  241.,    66.]],\n",
       "\n",
       "       [[  241.,    69.]],\n",
       "\n",
       "       [[  241.,    72.]],\n",
       "\n",
       "       ..., \n",
       "       [[ 1192.,   288.]],\n",
       "\n",
       "       [[ 1192.,   291.]],\n",
       "\n",
       "       [[ 1192.,   294.]]], dtype=float32)"
      ]
     },
     "execution_count": 18,
     "metadata": {},
     "output_type": "execute_result"
    }
   ],
   "source": [
    "roiPoints"
   ]
  },
  {
   "cell_type": "code",
   "execution_count": null,
   "metadata": {
    "collapsed": true
   },
   "outputs": [],
   "source": [
    "\n",
    "while(True):\n",
    "    p1, st, err = cv2.calcOpticalFlowPyrLK(frameTM1, frameT, p1, None, **lk_params)\n",
    "\n",
    "\n",
    "roiPoints = p1\n",
    "\n",
    "print err.mean() + 5"
   ]
  },
  {
   "cell_type": "code",
   "execution_count": null,
   "metadata": {
    "collapsed": true
   },
   "outputs": [],
   "source": []
  },
  {
   "cell_type": "code",
   "execution_count": null,
   "metadata": {
    "collapsed": true
   },
   "outputs": [],
   "source": [
    "p1, st, err = cv2.calcOpticalFlowPyrLK(oldFrame, frame, roiPoints, None, **lk_params)\n",
    "\n",
    "\n",
    "print err.mean() + 5"
   ]
  },
  {
   "cell_type": "code",
   "execution_count": null,
   "metadata": {
    "collapsed": true
   },
   "outputs": [],
   "source": [
    "st"
   ]
  },
  {
   "cell_type": "code",
   "execution_count": null,
   "metadata": {
    "collapsed": true
   },
   "outputs": [],
   "source": [
    "roiPointsMoved = "
   ]
  },
  {
   "cell_type": "code",
   "execution_count": null,
   "metadata": {
    "collapsed": true
   },
   "outputs": [],
   "source": [
    "print roiPoints"
   ]
  },
  {
   "cell_type": "code",
   "execution_count": null,
   "metadata": {
    "collapsed": true
   },
   "outputs": [],
   "source": []
  }
 ],
 "metadata": {
  "kernelspec": {
   "display_name": "Python 2",
   "language": "python",
   "name": "python2"
  },
  "language_info": {
   "codemirror_mode": {
    "name": "ipython",
    "version": 2
   },
   "file_extension": ".py",
   "mimetype": "text/x-python",
   "name": "python",
   "nbconvert_exporter": "python",
   "pygments_lexer": "ipython2",
   "version": "2.7.14"
  }
 },
 "nbformat": 4,
 "nbformat_minor": 2
}
